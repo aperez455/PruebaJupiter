{
 "cells": [
  {
   "cell_type": "markdown",
   "id": "ff184fc4-fff3-4a5d-8247-2e89cd2864f4",
   "metadata": {},
   "source": [
    "# Data Science Tools and Ecosystem"
   ]
  },
  {
   "cell_type": "markdown",
   "id": "c5691b22-2f0e-4460-a3e0-c5b7224967e0",
   "metadata": {},
   "source": [
    "En este cuaderno, se resumen las herramientas y ecosistemas de ciencia de datos.    "
   ]
  },
  {
   "cell_type": "markdown",
   "id": "3407ea7e-e162-46d4-bec3-200c6b79a654",
   "metadata": {},
   "source": [
    "**Objetivos:**\n",
    "- Listar lenguajes populares para Ciencia de Datos\n",
    "- Listar bibliotecas utilizadas para Ciencia de Datos\n",
    "- Listar herramientas usadas para Ciencia de Datos"
   ]
  },
  {
   "cell_type": "markdown",
   "id": "0d5f8b9c-c879-4083-9bff-0cb6c46a680a",
   "metadata": {},
   "source": [
    "Algunos de los lenguajes populares que utilizan los científicos de datos son:\n",
    "1. Python\n",
    "2. R\n",
    "3. SQL\n"
   ]
  },
  {
   "cell_type": "markdown",
   "id": "7ec4ae15-41a4-4406-83bd-40045fa0911a",
   "metadata": {},
   "source": [
    "Algunas de las bibliotecas comúnmente utilizadas por los científicos de datos incluyen:\n",
    "1. NumPy\n",
    "2. Scipy\n",
    "3. Pandas"
   ]
  },
  {
   "cell_type": "markdown",
   "id": "ee7f0739-4f6d-4f4a-9c18-179a526dac27",
   "metadata": {},
   "source": [
    "| Herramientas de Ciencia de Datos |\n",
    "| :------------------------------: |\n",
    "|MLFLow|\n",
    "Cuadernos Jupiter|\n",
    "Pytorch|"
   ]
  },
  {
   "cell_type": "markdown",
   "id": "30413188-c0d6-4a47-b0bb-c0c6512c330c",
   "metadata": {},
   "source": [
    "### A continuación, se presentan algunos ejemplos de evaluación de expresiones aritméticas en Python"
   ]
  },
  {
   "cell_type": "code",
   "execution_count": 16,
   "id": "767e2710-e0ff-4c60-9f03-ea485b187857",
   "metadata": {},
   "outputs": [
    {
     "data": {
      "text/plain": [
       "31"
      ]
     },
     "execution_count": 16,
     "metadata": {},
     "output_type": "execute_result"
    }
   ],
   "source": [
    "1+5*6"
   ]
  },
  {
   "cell_type": "code",
   "execution_count": 23,
   "id": "11f8b747-cab3-42c1-aa7a-fb50143384d0",
   "metadata": {},
   "outputs": [
    {
     "data": {
      "text/plain": [
       "17"
      ]
     },
     "execution_count": 23,
     "metadata": {},
     "output_type": "execute_result"
    }
   ],
   "source": [
    " (3*4)+5 #Esta es una expresión aritmética simple para multiplicar y luego sumar enteros"
   ]
  },
  {
   "cell_type": "code",
   "execution_count": 24,
   "id": "e8a52b4e-98dd-45c5-b567-4f1b432c14ce",
   "metadata": {},
   "outputs": [
    {
     "data": {
      "text/plain": [
       "3.3333333333333335"
      ]
     },
     "execution_count": 24,
     "metadata": {},
     "output_type": "execute_result"
    }
   ],
   "source": [
    "200/60 #Esto convertirá 200 minutos a horas dividiendo por 60"
   ]
  },
  {
   "cell_type": "markdown",
   "id": "4e16e3f2-1355-4a88-8d7f-90c6ddb98941",
   "metadata": {},
   "source": [
    "## Autor"
   ]
  },
  {
   "cell_type": "code",
   "execution_count": null,
   "id": "6c09ed9c-c073-46ef-ac81-3bfefab1af11",
   "metadata": {},
   "outputs": [],
   "source": []
  }
 ],
 "metadata": {
  "kernelspec": {
   "display_name": "Python 3 (ipykernel)",
   "language": "python",
   "name": "python3"
  },
  "language_info": {
   "codemirror_mode": {
    "name": "ipython",
    "version": 3
   },
   "file_extension": ".py",
   "mimetype": "text/x-python",
   "name": "python",
   "nbconvert_exporter": "python",
   "pygments_lexer": "ipython3",
   "version": "3.12.8"
  }
 },
 "nbformat": 4,
 "nbformat_minor": 5
}
